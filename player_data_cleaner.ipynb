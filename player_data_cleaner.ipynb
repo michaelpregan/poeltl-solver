{
 "cells": [
  {
   "cell_type": "code",
   "execution_count": 32,
   "metadata": {},
   "outputs": [],
   "source": [
    "# Importing libraries\n",
    "import pandas as pd\n",
    "import re"
   ]
  },
  {
   "cell_type": "code",
   "execution_count": 33,
   "metadata": {},
   "outputs": [],
   "source": [
    "# Dropping unnecessary columns\n",
    "df = pd.read_csv('nba_player_info.csv',index_col=False)\n",
    "df = df.drop(columns=['Last Attended','Country','Weight'])\n",
    "df = df.dropna(how='any')"
   ]
  },
  {
   "cell_type": "code",
   "execution_count": 34,
   "metadata": {},
   "outputs": [],
   "source": [
    "# Converting height to inches\n",
    "def convert_to_inches(height):\n",
    "    feet, inches = height.split(\"-\")\n",
    "    return 12*int(feet) + int(inches)\n",
    "df['Height']=df['Height'].apply(convert_to_inches)"
   ]
  },
  {
   "cell_type": "code",
   "execution_count": 35,
   "metadata": {},
   "outputs": [],
   "source": [
    "# Converting number column to int\n",
    "df = df.astype({'Number':'int64'})\n",
    "\n",
    "df.to_csv('nba_player_info_updated.csv',index=False)"
   ]
  }
 ],
 "metadata": {
  "kernelspec": {
   "display_name": "env",
   "language": "python",
   "name": "python3"
  },
  "language_info": {
   "codemirror_mode": {
    "name": "ipython",
    "version": 3
   },
   "file_extension": ".py",
   "mimetype": "text/x-python",
   "name": "python",
   "nbconvert_exporter": "python",
   "pygments_lexer": "ipython3",
   "version": "3.9.12"
  }
 },
 "nbformat": 4,
 "nbformat_minor": 2
}
