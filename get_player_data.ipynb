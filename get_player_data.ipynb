{
 "cells": [
  {
   "cell_type": "code",
   "execution_count": 2,
   "metadata": {},
   "outputs": [],
   "source": [
    "#Import Libraries\n",
    "from selenium import webdriver\n",
    "from selenium.webdriver.support.ui import Select\n",
    "from bs4 import BeautifulSoup\n",
    "import pandas as pd\n",
    "import requests"
   ]
  },
  {
   "cell_type": "code",
   "execution_count": 4,
   "metadata": {},
   "outputs": [],
   "source": [
    "# Get NBA Players Table\n",
    "driver = webdriver.Firefox()\n",
    "url = 'https://www.nba.com/players'\n",
    "driver.get(url)\n",
    "select = Select(driver.find_element('xpath','//*[@id=\"__next\"]/div[2]/div[2]/main/div[2]/section/div/div[2]/div[1]/div[7]/div/div[3]/div/label/div/select'))\n",
    "select.select_by_index(0)\n",
    "src = driver.page_source\n",
    "parser = BeautifulSoup(src,'lxml')\n",
    "table = parser.find('div',attrs={'class':'MockStatsTable_statsTable__V_Skx'})"
   ]
  },
  {
   "cell_type": "code",
   "execution_count": 28,
   "metadata": {},
   "outputs": [],
   "source": [
    "# Getting Headers\n",
    "headers = table.findAll('th')\n",
    "headerlist = [h.text for h in headers]\n",
    "\n",
    "# Getting Body\n",
    "rows = table.findAll('tr')[1:]\n",
    "all_player_info = []\n",
    "for row in rows:\n",
    "    player_info = []\n",
    "    for val in row.find('td', class_=\"primary text RosterRow_primaryCol__1lto4\"):\n",
    "        first_name = val.find('p', class_='RosterRow_playerFirstName__NYm50').text\n",
    "        last_name = val.find_all('p')[1].text\n",
    "        player_info.append(first_name+\" \"+last_name)\n",
    "    for val in row.findAll('td')[1:]:\n",
    "        player_info.append(val.getText())\n",
    "    all_player_info.append(player_info)"
   ]
  },
  {
   "cell_type": "code",
   "execution_count": 29,
   "metadata": {},
   "outputs": [],
   "source": [
    "# Making df\n",
    "df = pd.DataFrame(all_player_info,columns=headerlist)\n",
    "df.to_csv('nba_player_info.csv')\n",
    "\n",
    "# Getting the states to compare\n",
    "#driver2 = webdriver.Firefox()\n",
    "#url = \"https://www.nba.com/stats/leaders?PerMode=Totals\""
   ]
  }
 ],
 "metadata": {
  "kernelspec": {
   "display_name": "env",
   "language": "python",
   "name": "python3"
  },
  "language_info": {
   "codemirror_mode": {
    "name": "ipython",
    "version": 3
   },
   "file_extension": ".py",
   "mimetype": "text/x-python",
   "name": "python",
   "nbconvert_exporter": "python",
   "pygments_lexer": "ipython3",
   "version": "3.9.12"
  }
 },
 "nbformat": 4,
 "nbformat_minor": 2
}
